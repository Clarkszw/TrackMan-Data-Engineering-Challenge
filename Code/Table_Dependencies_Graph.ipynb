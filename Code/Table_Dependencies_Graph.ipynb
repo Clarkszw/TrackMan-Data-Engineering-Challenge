{
 "cells": [
  {
   "attachments": {},
   "cell_type": "markdown",
   "metadata": {},
   "source": [
    "# TrackMan Data Engineering Challenge: Table Dependencies Graph"
   ]
  },
  {
   "cell_type": "code",
   "execution_count": 1,
   "metadata": {},
   "outputs": [],
   "source": [
    "import os\n",
    "import json\n",
    "\n",
    "def get_queries(directory):\n",
    "    queries = []\n",
    "    for filename in os.listdir(directory):\n",
    "        if filename.endswith('.json'):\n",
    "            file_path = os.path.join(directory, filename)\n",
    "            with open(file_path, 'r') as file:\n",
    "                query = json.load(file)\n",
    "                queries += query\n",
    "    return queries"
   ]
  },
  {
   "cell_type": "code",
   "execution_count": 3,
   "metadata": {},
   "outputs": [],
   "source": [
    "def get_table_dependencies(query):\n",
    "\n",
    "    table_dependency = {}\n",
    "\n",
    "    schema = query['schema']['S']\n",
    "    table = query['table']['S']\n",
    "    new_table = schema + '.' + table\n",
    "\n",
    "    from_tables = []\n",
    "    from_query = query['query']['L'][0]['M']['from']['S']\n",
    "    from_query = from_query.split()\n",
    "    from_tables.append(from_query[0])\n",
    "    for string in from_query:\n",
    "        if string.lower() == 'join':\n",
    "            table = from_query[from_query.index(string)+1]\n",
    "            if table not in from_tables:\n",
    "                from_tables.append(table)\n",
    "            del from_query[from_query.index(string)]\n",
    "\n",
    "    table_dependency[new_table] = from_tables\n",
    "\n",
    "    return table_dependency\n"
   ]
  },
  {
   "cell_type": "code",
   "execution_count": null,
   "metadata": {},
   "outputs": [],
   "source": []
  },
  {
   "cell_type": "code",
   "execution_count": 4,
   "metadata": {},
   "outputs": [
    {
     "ename": "SyntaxError",
     "evalue": "expected ':' (3568406111.py, line 1)",
     "output_type": "error",
     "traceback": [
      "\u001b[1;36m  Cell \u001b[1;32mIn[4], line 1\u001b[1;36m\u001b[0m\n\u001b[1;33m    def print_table_dependencies(table_dependencies)\u001b[0m\n\u001b[1;37m                                                    ^\u001b[0m\n\u001b[1;31mSyntaxError\u001b[0m\u001b[1;31m:\u001b[0m expected ':'\n"
     ]
    }
   ],
   "source": [
    "def print_table_dependencies(table_dependencies)"
   ]
  },
  {
   "cell_type": "code",
   "execution_count": null,
   "metadata": {},
   "outputs": [],
   "source": [
    "def get_individual_dependency(query)"
   ]
  }
 ],
 "metadata": {
  "kernelspec": {
   "display_name": "Python 3",
   "language": "python",
   "name": "python3"
  },
  "language_info": {
   "codemirror_mode": {
    "name": "ipython",
    "version": 3
   },
   "file_extension": ".py",
   "mimetype": "text/x-python",
   "name": "python",
   "nbconvert_exporter": "python",
   "pygments_lexer": "ipython3",
   "version": "3.11.1"
  },
  "orig_nbformat": 4
 },
 "nbformat": 4,
 "nbformat_minor": 2
}
